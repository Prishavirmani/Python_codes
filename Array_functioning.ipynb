{
 "cells": [
  {
   "cell_type": "code",
   "execution_count": 1,
   "id": "24c8064a",
   "metadata": {},
   "outputs": [],
   "source": [
    "import numpy as np"
   ]
  },
  {
   "cell_type": "code",
   "execution_count": 6,
   "id": "82990dd1",
   "metadata": {},
   "outputs": [],
   "source": [
    "arr = np.random.randn(12)"
   ]
  },
  {
   "cell_type": "code",
   "execution_count": 8,
   "id": "a1e8c443",
   "metadata": {},
   "outputs": [
    {
     "data": {
      "text/plain": [
       "array([ 1.34983018, -1.23617287,  1.1848128 , -1.20143614, -0.20399484,\n",
       "       -0.15966757, -0.70206865, -0.81414063, -0.4098736 , -1.1869802 ,\n",
       "       -0.36331534,  0.87424382])"
      ]
     },
     "execution_count": 8,
     "metadata": {},
     "output_type": "execute_result"
    }
   ],
   "source": [
    "arr"
   ]
  },
  {
   "cell_type": "code",
   "execution_count": 7,
   "id": "7d9bd757",
   "metadata": {},
   "outputs": [
    {
     "name": "stderr",
     "output_type": "stream",
     "text": [
      "C:\\Users\\virma\\AppData\\Local\\Temp\\ipykernel_5760\\2296558006.py:1: RuntimeWarning: invalid value encountered in sqrt\n",
      "  np.sqrt(arr)\n"
     ]
    },
    {
     "data": {
      "text/plain": [
       "array([1.16182192,        nan, 1.08849106,        nan,        nan,\n",
       "              nan,        nan,        nan,        nan,        nan,\n",
       "              nan, 0.93501007])"
      ]
     },
     "execution_count": 7,
     "metadata": {},
     "output_type": "execute_result"
    }
   ],
   "source": [
    "np.sqrt(arr)\n",
    "# nan as negative num "
   ]
  },
  {
   "cell_type": "code",
   "execution_count": 9,
   "id": "853942d1",
   "metadata": {},
   "outputs": [
    {
     "data": {
      "text/plain": [
       "array([-1.01960399,  0.51697265,  0.30669521,  1.13124008,  0.52321602,\n",
       "        0.50650218, -0.2956013 , -0.7962406 ,  2.51619513, -0.81570693,\n",
       "        0.10943621, -0.60836852])"
      ]
     },
     "execution_count": 9,
     "metadata": {},
     "output_type": "execute_result"
    }
   ],
   "source": [
    "arr2 = np.random.randn(12)\n",
    "arr2"
   ]
  },
  {
   "cell_type": "code",
   "execution_count": 11,
   "id": "1ea24bd8",
   "metadata": {},
   "outputs": [
    {
     "data": {
      "text/plain": [
       "array([ 0.3302262 , -0.71920022,  1.49150801, -0.07019606,  0.31922118,\n",
       "        0.34683461, -0.99766994, -1.61038124,  2.10632153, -2.00268714,\n",
       "       -0.25387913,  0.26587531])"
      ]
     },
     "execution_count": 11,
     "metadata": {},
     "output_type": "execute_result"
    }
   ],
   "source": [
    "np.add(arr,arr2)"
   ]
  },
  {
   "cell_type": "code",
   "execution_count": 12,
   "id": "0e741392",
   "metadata": {},
   "outputs": [
    {
     "data": {
      "text/plain": [
       "array([-1.37629224, -0.63906756,  0.36337641, -1.35911272, -0.10673337,\n",
       "       -0.08087197,  0.2075324 ,  0.64825183, -1.03132195,  0.96822798,\n",
       "       -0.03975985, -0.53186242])"
      ]
     },
     "execution_count": 12,
     "metadata": {},
     "output_type": "execute_result"
    }
   ],
   "source": [
    "np.multiply(arr,arr2)"
   ]
  },
  {
   "cell_type": "code",
   "execution_count": 14,
   "id": "fd812960",
   "metadata": {},
   "outputs": [
    {
     "data": {
      "text/plain": [
       "array([-1.01960399, -1.23617287,  0.30669521, -1.20143614, -0.20399484,\n",
       "       -0.15966757, -0.70206865, -0.81414063, -0.4098736 , -1.1869802 ,\n",
       "       -0.36331534, -0.60836852])"
      ]
     },
     "execution_count": 14,
     "metadata": {},
     "output_type": "execute_result"
    }
   ],
   "source": [
    "np.minimum(arr,arr2)\n",
    "#compares corresponding elemnts and returns min from both"
   ]
  }
 ],
 "metadata": {
  "kernelspec": {
   "display_name": "Python 3 (ipykernel)",
   "language": "python",
   "name": "python3"
  },
  "language_info": {
   "codemirror_mode": {
    "name": "ipython",
    "version": 3
   },
   "file_extension": ".py",
   "mimetype": "text/x-python",
   "name": "python",
   "nbconvert_exporter": "python",
   "pygments_lexer": "ipython3",
   "version": "3.9.13"
  }
 },
 "nbformat": 4,
 "nbformat_minor": 5
}
