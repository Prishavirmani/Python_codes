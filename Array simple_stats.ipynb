{
 "cells": [
  {
   "cell_type": "code",
   "execution_count": 2,
   "id": "ccf1017a",
   "metadata": {},
   "outputs": [],
   "source": [
    "import numpy as np\n"
   ]
  },
  {
   "cell_type": "code",
   "execution_count": 3,
   "id": "b86d80ee",
   "metadata": {},
   "outputs": [
    {
     "data": {
      "text/plain": [
       "array([[ 0.99563708, -0.91118974, -1.00873139, -0.06591665],\n",
       "       [ 0.61282597, -0.26696065, -0.33197775, -0.83281364],\n",
       "       [-1.30498305,  0.23673218,  0.10981675,  1.6592226 ],\n",
       "       [ 0.94965299, -1.52919779,  0.15865502, -0.32686503]])"
      ]
     },
     "execution_count": 3,
     "metadata": {},
     "output_type": "execute_result"
    }
   ],
   "source": [
    "arr = np.random.randn(4,4)\n",
    "arr"
   ]
  },
  {
   "cell_type": "code",
   "execution_count": 5,
   "id": "c3d7dc2d",
   "metadata": {},
   "outputs": [
    {
     "data": {
      "text/plain": [
       "-1.8560931120955155"
      ]
     },
     "execution_count": 5,
     "metadata": {},
     "output_type": "execute_result"
    }
   ],
   "source": [
    "arr.sum()"
   ]
  },
  {
   "cell_type": "code",
   "execution_count": 6,
   "id": "3b28fa79",
   "metadata": {},
   "outputs": [
    {
     "data": {
      "text/plain": [
       "-0.11600581950596972"
      ]
     },
     "execution_count": 6,
     "metadata": {},
     "output_type": "execute_result"
    }
   ],
   "source": [
    "arr.mean()"
   ]
  },
  {
   "cell_type": "code",
   "execution_count": 7,
   "id": "95b59951",
   "metadata": {},
   "outputs": [
    {
     "data": {
      "text/plain": [
       "0.8578730551363524"
      ]
     },
     "execution_count": 7,
     "metadata": {},
     "output_type": "execute_result"
    }
   ],
   "source": [
    "arr.std()\n",
    "#standard deviation"
   ]
  },
  {
   "cell_type": "code",
   "execution_count": 8,
   "id": "828bb9bd",
   "metadata": {},
   "outputs": [
    {
     "data": {
      "text/plain": [
       "0.7359461787289792"
      ]
     },
     "execution_count": 8,
     "metadata": {},
     "output_type": "execute_result"
    }
   ],
   "source": [
    "arr.var()\n",
    "#variance"
   ]
  },
  {
   "cell_type": "code",
   "execution_count": 9,
   "id": "dfac192d",
   "metadata": {},
   "outputs": [
    {
     "data": {
      "text/plain": [
       "array([[0.99563708, 0.        , 0.        , 0.        ],\n",
       "       [0.61282597, 0.        , 0.        , 0.        ],\n",
       "       [0.        , 0.23673218, 0.10981675, 1.6592226 ],\n",
       "       [0.94965299, 0.        , 0.15865502, 0.        ]])"
      ]
     },
     "execution_count": 9,
     "metadata": {},
     "output_type": "execute_result"
    }
   ],
   "source": [
    "np.where(arr<0,0,arr)\n",
    "# is like while (condition, if condition is met return 0, else return original array value)\n",
    "\n",
    "# press shift+tab at end of function to know its working"
   ]
  },
  {
   "cell_type": "code",
   "execution_count": 11,
   "id": "f7e26e60",
   "metadata": {},
   "outputs": [
    {
     "data": {
      "text/plain": [
       "array([[-1.00873139, -0.91118974, -0.06591665,  0.99563708],\n",
       "       [-0.83281364, -0.33197775, -0.26696065,  0.61282597],\n",
       "       [-1.30498305,  0.10981675,  0.23673218,  1.6592226 ],\n",
       "       [-1.52919779, -0.32686503,  0.15865502,  0.94965299]])"
      ]
     },
     "execution_count": 11,
     "metadata": {},
     "output_type": "execute_result"
    }
   ],
   "source": [
    "arr.sort()\n",
    "arr\n",
    "# each sub array (rows) sorted individually"
   ]
  }
 ],
 "metadata": {
  "kernelspec": {
   "display_name": "Python 3 (ipykernel)",
   "language": "python",
   "name": "python3"
  },
  "language_info": {
   "codemirror_mode": {
    "name": "ipython",
    "version": 3
   },
   "file_extension": ".py",
   "mimetype": "text/x-python",
   "name": "python",
   "nbconvert_exporter": "python",
   "pygments_lexer": "ipython3",
   "version": "3.9.13"
  }
 },
 "nbformat": 4,
 "nbformat_minor": 5
}
